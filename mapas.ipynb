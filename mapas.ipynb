{
 "cells": [
  {
   "cell_type": "code",
   "execution_count": null,
   "metadata": {},
   "outputs": [],
   "source": [
    "import pandas as pd\n",
    "import plotly.express as px\n",
    "\n",
    "# parte da tabela onde será puxada as informações\n",
    "tabela = pd.read_csv(\"Cidades.csv\")\n",
    "display(tabela)\n",
    "\n",
    "# parte onde se cria o mapa\n",
    "grafico = px.density_mapbox(tabela, lon= \"geolocation_lng\", lat= \"geolocation_lat\", z= \"quantidade\", \n",
    "                            mapbox_style=\"open-street-map\", zoom=3, radius=10)\n",
    "grafico.update_layout(margin={\"r\":0, \"t\":0, \"b\":0, \"l\":0})\n",
    "grafico.show()\n"
   ]
  }
 ],
 "metadata": {
  "kernelspec": {
   "display_name": "Python 3",
   "language": "python",
   "name": "python3"
  },
  "language_info": {
   "codemirror_mode": {
    "name": "ipython",
    "version": 3
   },
   "file_extension": ".py",
   "mimetype": "text/x-python",
   "name": "python",
   "nbconvert_exporter": "python",
   "pygments_lexer": "ipython3",
   "version": "3.12.5"
  }
 },
 "nbformat": 4,
 "nbformat_minor": 2
}
